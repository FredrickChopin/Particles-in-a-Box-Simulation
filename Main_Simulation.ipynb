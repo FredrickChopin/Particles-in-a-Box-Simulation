{
 "cells": [
  {
   "cell_type": "code",
   "execution_count": 25,
   "metadata": {},
   "outputs": [],
   "source": [
    "import itertools\n",
    "import numpy as np\n",
    "import scipy as sp\n",
    "import matplotlib.pyplot as plt\n",
    "import matplotlib.animation as animation\n",
    "import IPython\n",
    "np.set_printoptions(formatter={'float': lambda x: \"{0:0.5f}\".format(x)})"
   ]
  },
  {
   "cell_type": "code",
   "execution_count": 26,
   "metadata": {},
   "outputs": [],
   "source": [
    "def GraphPolynomial(p, a, b, samples = 1000):\n",
    "    x = np.linspace(a, b, samples)\n",
    "    plt.plot(x, p(x))\n",
    "\n",
    "def ConstructQFromP(P, l):\n",
    "    P = np.copy(P)\n",
    "    P[-1] += 1\n",
    "    temp = np.poly1d([-1, l, 0])\n",
    "    return np.polymul(P, temp)"
   ]
  },
  {
   "attachments": {},
   "cell_type": "markdown",
   "metadata": {},
   "source": [
    "# Finding the Fixed Points\n",
    "When repelling potential between the particles is not present, we simply need to find the roots of $Q$. We can easily do so just by specifying the coefficients of $P$.</br> \n",
    "For example, when $P(q) = 24q^3-30q^2+10q$, $l= 1$, "
   ]
  },
  {
   "cell_type": "code",
   "execution_count": 27,
   "metadata": {},
   "outputs": [
    {
     "name": "stdout",
     "output_type": "stream",
     "text": [
      "Roots of Q' in the interval [0, l]:\n",
      "[0.35856 0.67671 0.80727]\n",
      "A graph of Q:\n"
     ]
    },
    {
     "data": {
      "image/png": "[encoded data removed]",
      "text/plain": [
       "<Figure size 640x480 with 1 Axes>"
      ]
     },
     "metadata": {},
     "output_type": "display_data"
    }
   ],
   "source": [
    "l = 1\n",
    "P = np.poly1d([24, -30, 10, 0])\n",
    "Q = ConstructQFromP(P, 1)\n",
    "Q_prime = np.polyder(Q)\n",
    "roots = np.roots(Q_prime)\n",
    "print(\"Roots of Q' in the interval [0, l]:\")\n",
    "print(np.sort(roots[(roots >= 0) & (roots <= l)]))\n",
    "print(\"A graph of Q:\")\n",
    "GraphPolynomial(Q, 0, l)"
   ]
  },
  {
   "attachments": {},
   "cell_type": "markdown",
   "metadata": {},
   "source": [
    "# Numerical Calculation of the Fixed Points\n",
    "Now, we move on to the more general case where repelling potential between the particles is present. </br>\n",
    "We need to solve for ${q_j^{(k)}}, (j = 1, \\ldots, d, \\; k = 1,\\ldots,N)$ in the following set of $Nd$ equations:\n",
    "$$\n",
    "\\frac{\\alpha \\cdot Q_j^{'}(q_j^{(k)})}{Q_j(q_j^{(k)})^{\\alpha+1}}+2a\\beta\\mathop{\\sum_{n = 1}^N}_{n\\neq k}\\frac{q_j^{(k)}-q_j^{(n)}}{\\left\\Vert q^{(k)}-q^{(n)}\\right\\Vert^{\\beta + 2}} = 0\n",
    "$$"
   ]
  },
  {
   "cell_type": "code",
   "execution_count": 28,
   "metadata": {},
   "outputs": [],
   "source": [
    "def dH_dq(q, Q, Q_prime, N, d, alpha, a, beta):\n",
    "    derivative = np.empty((N, d))\n",
    "    for k in range(0, N):\n",
    "        for j in range(0, d):\n",
    "            derivative[k, j] = -alpha * Q_prime[j](q[k, j]) / (Q[j](q[k, j]) ** (alpha + 1))\n",
    "            sum = 0\n",
    "            for n in range(0, N):\n",
    "                if n != k:\n",
    "                    sum += (q[k, j] - q[n, j]) / (np.linalg.norm(q[k] - q[n])**(beta + 2))\n",
    "            derivative[k, j] -= 2 * a * beta * sum\n",
    "    return derivative\n",
    "\n",
    "def TargetFunction(q, Q, Q_prime, N, d, alpha, a, beta):\n",
    "    '''\n",
    "    Here q is an array of size N * d \n",
    "    Q is a list of d polynomials\n",
    "    Q_prime is a list of d polynomials\n",
    "    q_shape = (N, d)\n",
    "    alpha, a and beta a scalar parameters\n",
    "    '''\n",
    "    q = np.reshape(q, (N, d))\n",
    "    derivative = dH_dq(q, Q, Q_prime, N, d, alpha, a, beta)  \n",
    "    return np.ravel(derivative)\n",
    "\n",
    "def IsCloseToAtLeastOnePoint(L, arr, eps = 0.01):\n",
    "    for point in L:\n",
    "        if np.allclose(arr, point, atol = eps):\n",
    "            return True\n",
    "    return False\n",
    "\n",
    "def PointIsInsideBox(q, L):\n",
    "    return np.all((q >= 0) & (q <= L))\n",
    "\n",
    "def AllPointsInsideBox(q, L):\n",
    "    for point in q:\n",
    "        if not PointIsInsideBox(point, L):\n",
    "            return False\n",
    "    return True\n",
    "\n",
    "def FindFixedPoints(Q, N, d, alpha, a, beta, L, samples = 5):\n",
    "    '''\n",
    "    Here L is an ndarray of size d specifying the size of the box\n",
    "    Q is a list of d polynomials\n",
    "    '''\n",
    "    Q_prime = [np.polyder(poly) for poly in Q]\n",
    "    grids = [np.linspace(0, l, 5) for l in L]\n",
    "    solutions = []\n",
    "    for initial_guess in itertools.product(*(N * grids)):\n",
    "        search_result = sp.optimize.root(lambda q : TargetFunction(q, Q, Q_prime, N, d, alpha, a, beta), initial_guess)\n",
    "        if search_result.success:\n",
    "            solution = np.reshape(search_result.x, (N, d))\n",
    "            if AllPointsInsideBox(solution, L) and not IsCloseToAtLeastOnePoint(solutions, solution):\n",
    "                solutions.append(solution)\n",
    "\n",
    "    for solution in solutions:\n",
    "        print(solution)\n"
   ]
  },
  {
   "attachments": {},
   "cell_type": "markdown",
   "metadata": {},
   "source": [
    "For example, when $P_1(q) = P_2(q) = 1$, $l_1 = l_2 = 1$, the fixed points are at:\n",
    "$$\n",
    "q^{(1)} = q^{(2)} = (0.5,0.5),\n",
    "$$\n",
    "as expected."
   ]
  },
  {
   "cell_type": "code",
   "execution_count": 29,
   "metadata": {},
   "outputs": [
    {
     "name": "stderr",
     "output_type": "stream",
     "text": [
      "C:\\Users\\Ariel\\AppData\\Local\\Temp\\ipykernel_11768\\88516286.py:5: RuntimeWarning: divide by zero encountered in double_scalars\n",
      "  derivative[k, j] = -alpha * Q_prime[j](q[k, j]) / (Q[j](q[k, j]) ** (alpha + 1))\n",
      "C:\\Users\\Ariel\\AppData\\Local\\Temp\\ipykernel_11768\\88516286.py:9: RuntimeWarning: invalid value encountered in double_scalars\n",
      "  sum += (q[k, j] - q[n, j]) / (np.linalg.norm(q[k] - q[n])**(beta + 2))\n"
     ]
    },
    {
     "name": "stdout",
     "output_type": "stream",
     "text": [
      "[[0.50000 0.50000]\n",
      " [0.50000 0.50000]]\n"
     ]
    }
   ],
   "source": [
    "P1 = np.poly1d([0])\n",
    "P2 = np.poly1d([0])\n",
    "Q1 = ConstructQFromP(P1, l)\n",
    "Q2 = ConstructQFromP(P2, l)\n",
    "Q = [Q1, Q2]\n",
    "N = 2\n",
    "d = 2\n",
    "alpha = 1\n",
    "a = 0\n",
    "beta = 0\n",
    "L = np.array([1, 1])\n",
    "FindFixedPoints(Q, N, d, alpha, a, beta, L)"
   ]
  },
  {
   "attachments": {},
   "cell_type": "markdown",
   "metadata": {},
   "source": [
    "Another example is $P_1(q) = 1, \\; P_2(q) = 24q^3-30q^2+10q$, $l_1 = l_2 = 1$. </br>\n",
    "There are multiple fixed points.\n",
    "Each row in the output matrix represents a different particle."
   ]
  },
  {
   "cell_type": "code",
   "execution_count": 30,
   "metadata": {},
   "outputs": [
    {
     "name": "stderr",
     "output_type": "stream",
     "text": [
      "C:\\Users\\Ariel\\AppData\\Local\\Temp\\ipykernel_11768\\88516286.py:5: RuntimeWarning: divide by zero encountered in double_scalars\n",
      "  derivative[k, j] = -alpha * Q_prime[j](q[k, j]) / (Q[j](q[k, j]) ** (alpha + 1))\n",
      "C:\\Users\\Ariel\\AppData\\Local\\Temp\\ipykernel_11768\\88516286.py:9: RuntimeWarning: invalid value encountered in double_scalars\n",
      "  sum += (q[k, j] - q[n, j]) / (np.linalg.norm(q[k] - q[n])**(beta + 2))\n"
     ]
    },
    {
     "name": "stdout",
     "output_type": "stream",
     "text": [
      "[[0.50000 0.07209]\n",
      " [0.50000 0.96484]]\n",
      "[[0.07061 0.35856]\n",
      " [0.92939 0.35856]]\n",
      "[[0.16148 0.12499]\n",
      " [0.83852 0.93571]]\n",
      "[[0.50000 0.96484]\n",
      " [0.50000 0.07209]]\n",
      "[[0.16148 0.93571]\n",
      " [0.83852 0.12499]]\n",
      "[[0.07061 0.80727]\n",
      " [0.92939 0.80727]]\n",
      "[[0.07061 0.67671]\n",
      " [0.92939 0.67671]]\n",
      "[[0.92939 0.35856]\n",
      " [0.07061 0.35856]]\n",
      "[[0.83852 0.12499]\n",
      " [0.16148 0.93571]]\n",
      "[[0.83852 0.93571]\n",
      " [0.16148 0.12499]]\n",
      "[[0.92939 0.80727]\n",
      " [0.07061 0.80727]]\n",
      "[[0.92939 0.67671]\n",
      " [0.07061 0.67671]]\n"
     ]
    }
   ],
   "source": [
    "P1 = np.poly1d([0])\n",
    "P2 = np.poly1d([24, -30, 10, 0])\n",
    "Q1 = ConstructQFromP(P1, l)\n",
    "Q2 = ConstructQFromP(P2, l)\n",
    "Q = [Q1, Q2]\n",
    "N = 2\n",
    "d = 2\n",
    "alpha = 1\n",
    "a = 8\n",
    "beta = 5\n",
    "L = np.array([1, 1])\n",
    "FindFixedPoints(Q, N, d, alpha, a, beta, L)"
   ]
  },
  {
   "attachments": {},
   "cell_type": "markdown",
   "metadata": {},
   "source": [
    "# Simulating the Solution of the System"
   ]
  },
  {
   "cell_type": "code",
   "execution_count": 31,
   "metadata": {},
   "outputs": [],
   "source": [
    "def HamiltonianSystem(state, t, Q, Q_prime, N, d, alpha, a, beta):\n",
    "    q = state[:N * d]\n",
    "    p = state[N * d:]\n",
    "    q = np.reshape(q, (N, d))\n",
    "    derivative = dH_dq(q, Q, Q_prime, N, d, alpha, a, beta)\n",
    "    return [*p, *(-np.ravel(derivative))]\n",
    "\n",
    "def Simulate2DSolution(filename, initial_q, initial_p, t0, t1, dt, Q, Q_prime, N, alpha, a, beta, L):\n",
    "    t = np.arange(t0, t1, dt)\n",
    "    fps = 1 / dt\n",
    "    interval = 1000 / fps\n",
    "    state0 = np.concatenate((np.ravel(initial_q), np.ravel(initial_p)))\n",
    "    states = sp.integrate.odeint(lambda state, t: HamiltonianSystem(state, t, Q, Q_prime, N, 2, alpha, a, beta), state0, t)\n",
    "    ani = animation.FuncAnimation(plt.gcf(), lambda i: Animate(i, states, N, L), frames = len(t), interval = 200)\n",
    "    writer = animation.FFMpegFileWriter(fps = 40)\n",
    "    ani.save(filename, writer = writer, dpi = 200)\n",
    "    plt.close()\n",
    "\n",
    "def Animate(i, states, N, L):\n",
    "    plt.clf()\n",
    "    colors = \"rbgcmyk\"\n",
    "    for j in range(N):\n",
    "        plt.plot(states[i, 2 * j], states[i, 2 * j + 1], colors[j % len(colors)] + 'o', markersize=5)\n",
    "    plt.xlim([0, L[0]])\n",
    "    plt.ylim([0, L[1]])\n"
   ]
  },
  {
   "attachments": {},
   "cell_type": "markdown",
   "metadata": {},
   "source": [
    "# Example 1\n",
    "Let us try: \n",
    "$$a = 0$$\n",
    "$$\\alpha = 1$$\n",
    "$$l_1 = l_2 = 1$$\n",
    "$$P_1(q) = P_2(q) = 1000$$\n",
    "$$\n",
    "q^{(1)} = (0.25, 0.75), \\quad q^{(2)} = (0.5, 0.5)\n",
    "$$\n",
    "$$\n",
    "p^{(1)} = (1, 2), \\quad p^{(2)} = (0, 0)\n",
    "$$\n",
    "Although this $P$ doesn't satisfy the requirements, it is nice to see how the box is almost ideal. $(0.5, 0.5)$ is a fixed point."
   ]
  },
  {
   "cell_type": "code",
   "execution_count": 32,
   "metadata": {},
   "outputs": [
    {
     "data": {
      "text/html": [
       "<video src=\"Simulation1.mp4\" controls   height=\"400\">\n",
       "      Your browser does not support the <code>video</code> element.\n",
       "    </video>"
      ],
      "text/plain": [
       "<IPython.core.display.Video object>"
      ]
     },
     "execution_count": 32,
     "metadata": {},
     "output_type": "execute_result"
    }
   ],
   "source": [
    "initial_q = np.array([[0.25, 0.75], [0.5, 0.5]])\n",
    "initial_p = np.array([[1, 2], [0, 0]])\n",
    "N = 2\n",
    "alpha = 1\n",
    "a = 0\n",
    "beta = 0\n",
    "P1 = np.poly1d([1000])\n",
    "P2 = np.copy(P1)\n",
    "Q1 = ConstructQFromP(P1, l)\n",
    "Q2 = ConstructQFromP(P2, l)\n",
    "Q = [Q1, Q2]\n",
    "Q_prime = [np.polyder(p) for p in Q]\n",
    "t0 = 0\n",
    "tf = 5\n",
    "dt = 0.01\n",
    "L = [1, 1]\n",
    "filename = \"Simulation1.mp4\"\n",
    "Simulate2DSolution(filename, initial_q, initial_p, t0, tf, dt, Q, Q_prime, N, alpha, a, beta, L)\n",
    "video = IPython.display.Video(filename, height = 400)\n",
    "video"
   ]
  },
  {
   "attachments": {},
   "cell_type": "markdown",
   "metadata": {},
   "source": [
    "# Example 2\n",
    "Let us try: \n",
    "$$a = 0$$\n",
    "$$\\alpha = 1$$\n",
    "$$l_1 = l_2 = 1$$\n",
    "$$P_1(q) = P_2(q) = 0$$\n",
    "$$\n",
    "q^{(1)} = (0.25, 0.75), \\quad q^{(2)} = (0.5, 0.5)\n",
    "$$\n",
    "$$\n",
    "p^{(1)} = (4, 2), \\quad p^{(2)} = (0, 0)\n",
    "$$\n",
    "The collision with the sides of the box appears \"smooth\". $(0.5, 0.5)$ is still a fixed point."
   ]
  },
  {
   "cell_type": "code",
   "execution_count": 33,
   "metadata": {},
   "outputs": [
    {
     "data": {
      "text/html": [
       "<video src=\"Simulation2.mp4\" controls   height=\"400\">\n",
       "      Your browser does not support the <code>video</code> element.\n",
       "    </video>"
      ],
      "text/plain": [
       "<IPython.core.display.Video object>"
      ]
     },
     "execution_count": 33,
     "metadata": {},
     "output_type": "execute_result"
    }
   ],
   "source": [
    "initial_q = np.array([[0.25, 0.75], [0.5, 0.5]])\n",
    "initial_p = np.array([[4, 2], [0, 0]])\n",
    "N = 2\n",
    "alpha = 1\n",
    "a = 0\n",
    "beta = 0\n",
    "P1 = np.poly1d([0])\n",
    "P2 = np.copy(P1)\n",
    "Q1 = ConstructQFromP(P1, l)\n",
    "Q2 = ConstructQFromP(P2, l)\n",
    "Q = [Q1, Q2]\n",
    "Q_prime = [np.polyder(p) for p in Q]\n",
    "t0 = 0\n",
    "tf = 5\n",
    "dt = 0.01\n",
    "L = [1, 1]\n",
    "filename = \"Simulation2.mp4\"\n",
    "Simulate2DSolution(filename, initial_q, initial_p, t0, tf, dt, Q, Q_prime, N, alpha, a, beta, L)\n",
    "video = IPython.display.Video(filename, height = 400)\n",
    "video"
   ]
  },
  {
   "attachments": {},
   "cell_type": "markdown",
   "metadata": {},
   "source": [
    "# Example 3\n",
    "Let us try: \n",
    "$$a = 0$$\n",
    "$$\\alpha = 1$$\n",
    "$$l_1 = l_2 = 1$$\n",
    "$$P_1(q) = 24q^3-30q^2+10q, \\quad P_2(q) = 0$$\n",
    "$$\n",
    "q^{(1)} = (0.25, 0.75), \\quad q^{(2)} = (0.5, 0.5)\n",
    "$$\n",
    "$$\n",
    "p^{(1)} = (3, 6), \\quad p^{(2)} = (0, 0)\n",
    "$$\n",
    "$(0.5, 0.5)$ is not a fixed point anymore."
   ]
  },
  {
   "cell_type": "code",
   "execution_count": 34,
   "metadata": {},
   "outputs": [
    {
     "data": {
      "text/html": [
       "<video src=\"Simulation3.mp4\" controls   height=\"400\">\n",
       "      Your browser does not support the <code>video</code> element.\n",
       "    </video>"
      ],
      "text/plain": [
       "<IPython.core.display.Video object>"
      ]
     },
     "execution_count": 34,
     "metadata": {},
     "output_type": "execute_result"
    }
   ],
   "source": [
    "initial_q = np.array([[0.25, 0.75], [0.5, 0.5]])\n",
    "initial_p = np.array([[3, 6], [0, 0]])\n",
    "N = 2\n",
    "alpha = 1\n",
    "a = 0\n",
    "beta = 0\n",
    "P1 = np.poly1d([24, -30, 10, 0])\n",
    "P2 = np.poly1d([0])\n",
    "Q1 = ConstructQFromP(P1, l)\n",
    "Q2 = ConstructQFromP(P2, l)\n",
    "Q = [Q1, Q2]\n",
    "Q_prime = [np.polyder(p) for p in Q]\n",
    "t0 = 0\n",
    "tf = 5\n",
    "dt = 0.01\n",
    "L = [1, 1]\n",
    "filename = \"Simulation3.mp4\"\n",
    "Simulate2DSolution(filename, initial_q, initial_p, t0, tf, dt, Q, Q_prime, N, alpha, a, beta, L)\n",
    "video = IPython.display.Video(filename, height = 400)\n",
    "video"
   ]
  },
  {
   "attachments": {},
   "cell_type": "markdown",
   "metadata": {},
   "source": [
    "# Example 4\n",
    "Let us try: \n",
    "$$a = 0.1$$\n",
    "$$\\beta = 2$$\n",
    "$$\\alpha = 1$$\n",
    "$$l_1 = l_2 = 1$$\n",
    "$$P_1(q) =  P_2(q) = 1000$$\n",
    "$$\n",
    "q^{(1)} = (0.35, 0.35), \\quad q^{(2)} = (0.5, 0.5)\n",
    "$$\n",
    "$$\n",
    "p^{(1)} = (1, 2), \\quad p^{(2)} = (0, 0)\n",
    "$$\n",
    "Even though $q^{(2)}$ has no initial momentum, it still starts to move since it is repelled by $q^{(1)}$. $\\beta = 2$, like in Coulomb's law."
   ]
  },
  {
   "cell_type": "code",
   "execution_count": 35,
   "metadata": {},
   "outputs": [
    {
     "data": {
      "text/html": [
       "<video src=\"Simulation4.mp4\" controls   height=\"400\">\n",
       "      Your browser does not support the <code>video</code> element.\n",
       "    </video>"
      ],
      "text/plain": [
       "<IPython.core.display.Video object>"
      ]
     },
     "execution_count": 35,
     "metadata": {},
     "output_type": "execute_result"
    }
   ],
   "source": [
    "initial_q = np.array([[0.35, 0.35], [0.55, 0.55]])\n",
    "initial_p = np.array([[1, 2], [0, 0]])\n",
    "N = 2\n",
    "alpha = 1\n",
    "a = 0.1\n",
    "beta = 2\n",
    "P1 = np.poly1d([1000])\n",
    "P2 = np.poly1d([1000])\n",
    "Q1 = ConstructQFromP(P1, l)\n",
    "Q2 = ConstructQFromP(P2, l)\n",
    "Q = [Q1, Q2]\n",
    "Q_prime = [np.polyder(p) for p in Q]\n",
    "t0 = 0\n",
    "tf = 5\n",
    "dt = 0.01\n",
    "L = [1, 1]\n",
    "filename = \"Simulation4.mp4\"\n",
    "Simulate2DSolution(filename, initial_q, initial_p, t0, tf, dt, Q, Q_prime, N, alpha, a, beta, L)\n",
    "video = IPython.display.Video(filename, height = 400)\n",
    "video"
   ]
  },
  {
   "attachments": {},
   "cell_type": "markdown",
   "metadata": {},
   "source": [
    "# Example 5\n",
    "Let us try: \n",
    "$$a = 0.1$$\n",
    "$$\\beta = 2$$\n",
    "$$\\alpha = 1$$\n",
    "$$l_1 = l_2 = 1$$\n",
    "$$P_1(q) = P_2(q) = 1000$$\n",
    "$$\n",
    "q^{(1)} = (0.35, 0.35), \\quad q^{(2)} = (0.55, 0.55), \\quad q^{(3)} = (0.25, 0.6), \\quad q^{(4)} = (0.75, 0.34)\n",
    "$$\n",
    "$$\n",
    "p^{(1)} = (1, 2), \\quad p^{(2)} = (0, 0), \\quad p^{(3)} = (0.5, 1), \\quad p^{(4)} = (1, 0.5)\n",
    "$$\n",
    "Again, but with extra particles."
   ]
  },
  {
   "cell_type": "code",
   "execution_count": 36,
   "metadata": {},
   "outputs": [
    {
     "data": {
      "text/html": [
       "<video src=\"Simulation5.mp4\" controls   height=\"400\">\n",
       "      Your browser does not support the <code>video</code> element.\n",
       "    </video>"
      ],
      "text/plain": [
       "<IPython.core.display.Video object>"
      ]
     },
     "execution_count": 36,
     "metadata": {},
     "output_type": "execute_result"
    }
   ],
   "source": [
    "initial_q = np.array([[0.35, 0.35], [0.55, 0.55], [0.25, 0.6], [0.75, 0.34]])\n",
    "initial_p = np.array([[1, 2], [0, 0], [0.5, 1], [1, 0.5]])\n",
    "N = 4\n",
    "alpha = 1\n",
    "a = 0.1\n",
    "beta = 2\n",
    "P1 = np.poly1d([1000])\n",
    "P2 = np.poly1d([1000])\n",
    "Q1 = ConstructQFromP(P1, l)\n",
    "Q2 = ConstructQFromP(P2, l)\n",
    "Q = [Q1, Q2]\n",
    "Q_prime = [np.polyder(p) for p in Q]\n",
    "t0 = 0\n",
    "tf = 5\n",
    "dt = 0.01\n",
    "L = [1, 1]\n",
    "filename = \"Simulation5.mp4\"\n",
    "Simulate2DSolution(filename, initial_q, initial_p, t0, tf, dt, Q, Q_prime, N, alpha, a, beta, L)\n",
    "video = IPython.display.Video(filename, height = 400)\n",
    "video"
   ]
  }
 ],
 "metadata": {
  "kernelspec": {
   "display_name": "Python 3",
   "language": "python",
   "name": "python3"
  },
  "language_info": {
   "codemirror_mode": {
    "name": "ipython",
    "version": 3
   },
   "file_extension": ".py",
   "mimetype": "text/x-python",
   "name": "python",
   "nbconvert_exporter": "python",
   "pygments_lexer": "ipython3",
   "version": "3.10.0"
  },
  "orig_nbformat": 4
 },
 "nbformat": 4,
 "nbformat_minor": 2
}
